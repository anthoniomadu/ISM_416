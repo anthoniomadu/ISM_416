{
 "cells": [
  {
   "cell_type": "markdown",
   "metadata": {},
   "source": [
    "# Import important libraries"
   ]
  },
  {
   "cell_type": "code",
   "execution_count": 72,
   "metadata": {},
   "outputs": [],
   "source": [
    "import requests\n",
    "from bs4 import BeautifulSoup\n",
    "import gensim"
   ]
  },
  {
   "cell_type": "code",
   "execution_count": 73,
   "metadata": {},
   "outputs": [],
   "source": [
    "url = 'https://www.npr.org/2021/04/28/991683886/frightened-to-death-cheerleader-speech-case-gives-supreme-court-pause'"
   ]
  },
  {
   "cell_type": "code",
   "execution_count": 74,
   "metadata": {},
   "outputs": [
    {
     "data": {
      "text/plain": [
       "<Response [200]>"
      ]
     },
     "execution_count": 74,
     "metadata": {},
     "output_type": "execute_result"
    }
   ],
   "source": [
    "requests.get(url)"
   ]
  },
  {
   "cell_type": "code",
   "execution_count": 75,
   "metadata": {},
   "outputs": [],
   "source": [
    "page = requests.get(url).text"
   ]
  },
  {
   "cell_type": "code",
   "execution_count": 76,
   "metadata": {},
   "outputs": [],
   "source": [
    "soup = BeautifulSoup(page)"
   ]
  },
  {
   "cell_type": "code",
   "execution_count": 77,
   "metadata": {},
   "outputs": [],
   "source": [
    "header = soup.find('h1').get_text()"
   ]
  },
  {
   "cell_type": "code",
   "execution_count": 78,
   "metadata": {},
   "outputs": [],
   "source": [
    "date = soup.find(name = 'span', attrs = {'class':'date'}).text"
   ]
  },
  {
   "cell_type": "code",
   "execution_count": 79,
   "metadata": {},
   "outputs": [],
   "source": [
    "p_tags = soup.find_all('p')"
   ]
  },
  {
   "cell_type": "code",
   "execution_count": 80,
   "metadata": {},
   "outputs": [
    {
     "data": {
      "text/plain": [
       "['Nina Totenberg',\n",
       " 'Brandi Levy wears her former cheerleading outfit as she looks at her mobile phone while sitting outside Mahanoy Area High School in Mahanoy City, Pa., on April 4.\\n                \\n                \\n                    \\n                    Danna Singer/ACLU / AP\\n                    \\n                \\nhide caption',\n",
       " 'Brandi Levy wears her former cheerleading outfit as she looks at her mobile phone while sitting outside Mahanoy Area High School in Mahanoy City, Pa., on April 4.',\n",
       " 'Facing its biggest student speech case in a half century, the Supreme Court seemed to be looking for a narrow exit door on Wednesday.',\n",
       " 'At issue was whether schools may punish students for speech that occurs online and off campus but may affect school order.',\n",
       " 'The case has been billed as the most important student speech case since 1969. That landmark ruling came at the height of the Vietnam War. Mary Beth Tinker and four other students went to court after they were suspended for wearing black armbands to school to protest the war.',\n",
       " 'By a vote of 7-to-2 the high court ruled at the time for the first time that kids do have First Amendment free speech rights at school, unless school officials reasonably forecast it will cause disruptions.',\n",
       " \"Wednesday's case did not involve such serious speech. It was brought by Brandi Levy, a 14-year-old high school cheerleader, who failed to win a promotion from the junior varsity cheer team to the varsity.\",\n",
       " '\"I was really upset and frustrated at everything,\" Levy explained in an NPR interview. So, that weekend, she posted a photo of herself and a friend flipping the bird to the camera, with the caption \"F*** school F*** softball, F*** cheer, F*** everything.\"',\n",
       " \"Brandi's post hit school like a small town, social media bomb; the school deemed the post disruptive to cheerleader morale and suspended her from the team for the rest of the year. The ACLU took her case to court, claiming that her free speech rights had been violated. And on Wednesday, the Supreme Court faced a question that did not exist in 1969: Can schools punish students for their online but off campus speech?\",\n",
       " 'Justice Stephen Breyer got to the heart of the matter quickly, wondering whether online swearing off-campus should even qualify for school punishment. \"If swearing off-campus did [qualify], my goodness, every school in the country would be doing nothing but punishing.\" he said.',\n",
       " 'Justice Sonia Sotomayor chimed in. \"I\\'m told by my law clerks that ... among a certain large percentage of the population, how much you curse is a badge of honor,\" she said. \"Kids basically talk to classmates, most of their exchanges have to do with their perceptions of the authoritarian nature of their teachers and others.\"',\n",
       " 'Justice Brett Kavanaugh, who coaches his daughters\\' sports teams, seemed to understand Brandi\\'s frustration, acknowledging that even NBA legend Michael Jordan had sore feelings 30 years after not making the varsity team in high school. As to this case, said Kavanaugh, \"It didn\\'t seem like the punishment was tailored to the offense. But how does that fit into the First Amendment Doctrine? or does it at all?\"',\n",
       " 'The argument illustrated just how hard that question is. Siding with the Mahanoy school district in the case, the Justice Department argued that schools could regulate off-campus speech only if it is related to school matters and could cause a \"substantial disruption.\"',\n",
       " '\"That means really everything that mentions a school at all is school speech, right?\" asked a skeptical Justice Elena Kagan. Deputy Solicitor General Malcolm Stewart tried to offer a nuanced distinction, but Kagan was having none of it. Cutting right to the question of which speech is punishable, she asked, \"Can I give you a few hypotheticals, and you just tell me school speech or not school speech?\"',\n",
       " '\"The student e-mails his classmates the answer to the geometry homework every day after school?\"',\n",
       " '\"Student emails his classmates that they should all skip school tomorrow for an impromptu senior skip day?\"',\n",
       " '\"Student emails that they should refuse to do any work for English class until the teacher changes the syllabus to include more authors of color?\"',\n",
       " '\"Student tweets that there\\'s pervasive homophobia at his school and that prospective gay students should stay away?\"',\n",
       " 'Each of these, conceded Stewart, would be considered school speech under the standard proposed by the Justice Department. In other words, all of these messages sent from off-campus might well be punishable school speech.',\n",
       " \"But the ACLU's David Cole, representing Brandi Levy, said that once schools can discipline students for off campus speech, that would dramatically expand the disciplinary reach of schools set out by the court in the Tinker case in 1969.\",\n",
       " '\"Expanding Tinker would transform a limited exception into a 24/7 rule that would upend the First Amendment\\'s bedrock principle,\" argued Cole, \"and would require students to effectively carry the schoolhouse on their backs in terms of speech rights everywhere they go.\"',\n",
       " 'But, the justices wanted to know, what about cases of harassment and bullying? After all some 47 states require enforcement of anti-bullying laws.',\n",
       " 'Justice Kagan posited an off campus website set up by high school boys to rank their female classmates appearance and sexual availability. All of the justices probed repeatedly for workable standard to adopt — a rule that would guide schools as to how to handle these tricky questions.',\n",
       " 'The ACLU\\'s Cole said student speech should be protected online. \"Outside of school, the priority is not to give the school discretion to regulate kids\\' speech,\" he said.',\n",
       " 'But the school district\\'s lawyer, Lisa Blatt said that standard would be a \"nightmare.\" It would, she said, mean \"open season\" on schools and produce \"chaos\" in the lower courts. \"I guarantee you...the courts are gonna freak out,\" she said.',\n",
       " 'But from conservative to liberal, the justices were looking to do as little damage as possible. Admitted Justice Breyer, \"I\\'m frightened to death of writing a standard.\"',\n",
       " 'NPR thanks our sponsors',\n",
       " 'Become an NPR sponsor']"
      ]
     },
     "execution_count": 80,
     "metadata": {},
     "output_type": "execute_result"
    }
   ],
   "source": [
    "text = [tags.get_text().strip() for tags in p_tags]\n",
    "text"
   ]
  },
  {
   "cell_type": "code",
   "execution_count": 81,
   "metadata": {},
   "outputs": [],
   "source": [
    "sentence_list = [sentence for sentence in text if not '\\n' in sentence]"
   ]
  },
  {
   "cell_type": "code",
   "execution_count": 82,
   "metadata": {},
   "outputs": [],
   "source": [
    "body = [sentence for sentence in sentence_list if '.' in sentence]"
   ]
  },
  {
   "cell_type": "code",
   "execution_count": 83,
   "metadata": {},
   "outputs": [
    {
     "data": {
      "text/plain": [
       "'Brandi Levy wears her former cheerleading outfit as she looks at her mobile phone while sitting outside Mahanoy Area High School in Mahanoy City, Pa., on April 4.Facing its biggest student speech case in a half century, the Supreme Court seemed to be looking for a narrow exit door on Wednesday.At issue was whether schools may punish students for speech that occurs online and off campus but may affect school order.The case has been billed as the most important student speech case since 1969. That landmark ruling came at the height of the Vietnam War. Mary Beth Tinker and four other students went to court after they were suspended for wearing black armbands to school to protest the war.By a vote of 7-to-2 the high court ruled at the time for the first time that kids do have First Amendment free speech rights at school, unless school officials reasonably forecast it will cause disruptions.Wednesday\\'s case did not involve such serious speech. It was brought by Brandi Levy, a 14-year-old high school cheerleader, who failed to win a promotion from the junior varsity cheer team to the varsity.\"I was really upset and frustrated at everything,\" Levy explained in an NPR interview. So, that weekend, she posted a photo of herself and a friend flipping the bird to the camera, with the caption \"F*** school F*** softball, F*** cheer, F*** everything.\"Brandi\\'s post hit school like a small town, social media bomb; the school deemed the post disruptive to cheerleader morale and suspended her from the team for the rest of the year. The ACLU took her case to court, claiming that her free speech rights had been violated. And on Wednesday, the Supreme Court faced a question that did not exist in 1969: Can schools punish students for their online but off campus speech?Justice Stephen Breyer got to the heart of the matter quickly, wondering whether online swearing off-campus should even qualify for school punishment. \"If swearing off-campus did [qualify], my goodness, every school in the country would be doing nothing but punishing.\" he said.Justice Sonia Sotomayor chimed in. \"I\\'m told by my law clerks that ... among a certain large percentage of the population, how much you curse is a badge of honor,\" she said. \"Kids basically talk to classmates, most of their exchanges have to do with their perceptions of the authoritarian nature of their teachers and others.\"Justice Brett Kavanaugh, who coaches his daughters\\' sports teams, seemed to understand Brandi\\'s frustration, acknowledging that even NBA legend Michael Jordan had sore feelings 30 years after not making the varsity team in high school. As to this case, said Kavanaugh, \"It didn\\'t seem like the punishment was tailored to the offense. But how does that fit into the First Amendment Doctrine? or does it at all?\"The argument illustrated just how hard that question is. Siding with the Mahanoy school district in the case, the Justice Department argued that schools could regulate off-campus speech only if it is related to school matters and could cause a \"substantial disruption.\"\"That means really everything that mentions a school at all is school speech, right?\" asked a skeptical Justice Elena Kagan. Deputy Solicitor General Malcolm Stewart tried to offer a nuanced distinction, but Kagan was having none of it. Cutting right to the question of which speech is punishable, she asked, \"Can I give you a few hypotheticals, and you just tell me school speech or not school speech?\"Each of these, conceded Stewart, would be considered school speech under the standard proposed by the Justice Department. In other words, all of these messages sent from off-campus might well be punishable school speech.But the ACLU\\'s David Cole, representing Brandi Levy, said that once schools can discipline students for off campus speech, that would dramatically expand the disciplinary reach of schools set out by the court in the Tinker case in 1969.\"Expanding Tinker would transform a limited exception into a 24/7 rule that would upend the First Amendment\\'s bedrock principle,\" argued Cole, \"and would require students to effectively carry the schoolhouse on their backs in terms of speech rights everywhere they go.\"But, the justices wanted to know, what about cases of harassment and bullying? After all some 47 states require enforcement of anti-bullying laws.Justice Kagan posited an off campus website set up by high school boys to rank their female classmates appearance and sexual availability. All of the justices probed repeatedly for workable standard to adopt — a rule that would guide schools as to how to handle these tricky questions.The ACLU\\'s Cole said student speech should be protected online. \"Outside of school, the priority is not to give the school discretion to regulate kids\\' speech,\" he said.But the school district\\'s lawyer, Lisa Blatt said that standard would be a \"nightmare.\" It would, she said, mean \"open season\" on schools and produce \"chaos\" in the lower courts. \"I guarantee you...the courts are gonna freak out,\" she said.But from conservative to liberal, the justices were looking to do as little damage as possible. Admitted Justice Breyer, \"I\\'m frightened to death of writing a standard.\"'"
      ]
     },
     "execution_count": 83,
     "metadata": {},
     "output_type": "execute_result"
    }
   ],
   "source": [
    "article = ''.join(body)\n",
    "article"
   ]
  },
  {
   "cell_type": "code",
   "execution_count": 84,
   "metadata": {},
   "outputs": [],
   "source": [
    "import docx"
   ]
  },
  {
   "cell_type": "code",
   "execution_count": 85,
   "metadata": {},
   "outputs": [],
   "source": [
    "doc = docx.Document()"
   ]
  },
  {
   "cell_type": "code",
   "execution_count": 86,
   "metadata": {},
   "outputs": [
    {
     "data": {
      "text/plain": [
       "<docx.text.paragraph.Paragraph at 0x7f837bb89970>"
      ]
     },
     "execution_count": 86,
     "metadata": {},
     "output_type": "execute_result"
    }
   ],
   "source": [
    "doc.add_heading(header)"
   ]
  },
  {
   "cell_type": "code",
   "execution_count": 87,
   "metadata": {},
   "outputs": [
    {
     "data": {
      "text/plain": [
       "<docx.shape.InlineShape at 0x7f837bb896d0>"
      ]
     },
     "execution_count": 87,
     "metadata": {},
     "output_type": "execute_result"
    }
   ],
   "source": [
    "doc.add_picture('pic.png')"
   ]
  },
  {
   "cell_type": "code",
   "execution_count": 88,
   "metadata": {},
   "outputs": [
    {
     "data": {
      "text/plain": [
       "<docx.text.paragraph.Paragraph at 0x7f837e3c0ac0>"
      ]
     },
     "execution_count": 88,
     "metadata": {},
     "output_type": "execute_result"
    }
   ],
   "source": [
    "doc.add_paragraph(date)"
   ]
  },
  {
   "cell_type": "code",
   "execution_count": 89,
   "metadata": {},
   "outputs": [
    {
     "data": {
      "text/plain": [
       "<docx.text.paragraph.Paragraph at 0x7f837e3c04f0>"
      ]
     },
     "execution_count": 89,
     "metadata": {},
     "output_type": "execute_result"
    }
   ],
   "source": [
    "doc.add_paragraph(article)"
   ]
  },
  {
   "cell_type": "code",
   "execution_count": 90,
   "metadata": {},
   "outputs": [],
   "source": [
    "doc.save('document.docx')"
   ]
  },
  {
   "cell_type": "code",
   "execution_count": 91,
   "metadata": {},
   "outputs": [],
   "source": [
    "url = 'https://www.npr.org/2021/04/28/989118802/sen-scotts-republican-response-to-bidens-address-annotated'"
   ]
  },
  {
   "cell_type": "code",
   "execution_count": 92,
   "metadata": {},
   "outputs": [
    {
     "data": {
      "text/plain": [
       "<Response [200]>"
      ]
     },
     "execution_count": 92,
     "metadata": {},
     "output_type": "execute_result"
    }
   ],
   "source": [
    "requests.get(url)"
   ]
  },
  {
   "cell_type": "code",
   "execution_count": 93,
   "metadata": {},
   "outputs": [],
   "source": [
    "page = requests.get(url).text"
   ]
  },
  {
   "cell_type": "code",
   "execution_count": 94,
   "metadata": {},
   "outputs": [],
   "source": [
    "soup = BeautifulSoup(page)"
   ]
  },
  {
   "cell_type": "code",
   "execution_count": 95,
   "metadata": {},
   "outputs": [],
   "source": [
    "header = soup.find('h1').get_text()"
   ]
  },
  {
   "cell_type": "code",
   "execution_count": 96,
   "metadata": {},
   "outputs": [],
   "source": [
    "date = soup.find(name = 'span', attrs = {'class':'date'}).text"
   ]
  },
  {
   "cell_type": "code",
   "execution_count": 97,
   "metadata": {},
   "outputs": [],
   "source": [
    "p_tags = soup.find_all('p')"
   ]
  },
  {
   "cell_type": "code",
   "execution_count": 98,
   "metadata": {},
   "outputs": [],
   "source": [
    "text = [tags.get_text().strip() for tags in p_tags]"
   ]
  },
  {
   "cell_type": "code",
   "execution_count": 99,
   "metadata": {},
   "outputs": [],
   "source": [
    "sentence_list = [sentence for sentence in text if not '\\n' in sentence]"
   ]
  },
  {
   "cell_type": "code",
   "execution_count": 100,
   "metadata": {},
   "outputs": [],
   "source": [
    "body = [sentence for sentence in sentence_list if '.' in sentence]"
   ]
  },
  {
   "cell_type": "code",
   "execution_count": 101,
   "metadata": {},
   "outputs": [],
   "source": [
    "article2 = ''.join(body)"
   ]
  },
  {
   "cell_type": "code",
   "execution_count": 102,
   "metadata": {},
   "outputs": [],
   "source": [
    "import docx\n",
    "doc = docx.Document()\n",
    "doc.add_heading(header)\n",
    "doc.add_picture('pic2.png')\n",
    "doc.add_paragraph(date)\n",
    "doc.add_paragraph(article)\n",
    "doc.save('document2.docx')"
   ]
  },
  {
   "cell_type": "code",
   "execution_count": 103,
   "metadata": {},
   "outputs": [],
   "source": [
    "# conda install -c conda-forge gensim"
   ]
  },
  {
   "cell_type": "code",
   "execution_count": 104,
   "metadata": {},
   "outputs": [],
   "source": [
    "from gensim.summarization import summarize"
   ]
  },
  {
   "cell_type": "code",
   "execution_count": 105,
   "metadata": {},
   "outputs": [],
   "source": [
    "summary = summarize(article, ratio = 0.15)"
   ]
  },
  {
   "cell_type": "code",
   "execution_count": 106,
   "metadata": {},
   "outputs": [],
   "source": [
    "doc = docx.Document()\n",
    "doc.add_heading(header)\n",
    "doc.add_picture('pic2.png')\n",
    "doc.add_paragraph(date)\n",
    "doc.add_paragraph(summary)\n",
    "doc.save('document3.docx')"
   ]
  },
  {
   "cell_type": "code",
   "execution_count": null,
   "metadata": {},
   "outputs": [],
   "source": []
  }
 ],
 "metadata": {
  "kernelspec": {
   "display_name": "Python 3",
   "language": "python",
   "name": "python3"
  },
  "language_info": {
   "codemirror_mode": {
    "name": "ipython",
    "version": 3
   },
   "file_extension": ".py",
   "mimetype": "text/x-python",
   "name": "python",
   "nbconvert_exporter": "python",
   "pygments_lexer": "ipython3",
   "version": "3.8.5"
  }
 },
 "nbformat": 4,
 "nbformat_minor": 4
}
