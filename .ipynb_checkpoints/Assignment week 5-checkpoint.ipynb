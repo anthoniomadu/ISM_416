{
 "cells": [
  {
   "cell_type": "markdown",
   "metadata": {},
   "source": [
    "Import Libraries"
   ]
  },
  {
   "cell_type": "code",
   "execution_count": 85,
   "metadata": {},
   "outputs": [],
   "source": [
    "import requests #Requests information from url\n",
    "from bs4 import BeautifulSoup  #Makes the page received more understandable(beautiful)\n",
    "import gensim \n",
    "import docx\n",
    "from gensim.summarization import summarize\n",
    "\n",
    "def summ(url, ratio):\n",
    "    requests.get(url)\n",
    "    page = requests.get(url).text\n",
    "    soup = BeautifulSoup(page)\n",
    "    header = soup.find('h1').get_text()\n",
    "    date = soup.find(name = 'span', attrs = {'class':'date'}).text\n",
    "    p_tags = soup.find_all('p')\n",
    "    text = [tags.get_text().strip() for tags in p_tags]\n",
    "    sentence_list = [sentence for sentence in text if not '\\n' in sentence]\n",
    "    body = [sentence for sentence in sentence_list if '.' in sentence]\n",
    "    article = ''.join(body)\n",
    "    summary = summarize(article, ratio)\n",
    "    doc = docx.Document()\n",
    "    doc.add_heading(header)\n",
    "    doc.add_picture('pic3.png')\n",
    "    doc.add_paragraph(date)\n",
    "    doc.add_paragraph(summary)\n",
    "    doc.save('document100.docx')"
   ]
  },
  {
   "cell_type": "code",
   "execution_count": 86,
   "metadata": {},
   "outputs": [],
   "source": [
    "summ('https://www.npr.org/2021/05/05/987679590/facebook-justified-in-banning-donald-trump-social-medias-oversight-board-rules', 1)"
   ]
  },
  {
   "cell_type": "code",
   "execution_count": null,
   "metadata": {},
   "outputs": [],
   "source": []
  }
 ],
 "metadata": {
  "kernelspec": {
   "display_name": "Python 3",
   "language": "python",
   "name": "python3"
  },
  "language_info": {
   "codemirror_mode": {
    "name": "ipython",
    "version": 3
   },
   "file_extension": ".py",
   "mimetype": "text/x-python",
   "name": "python",
   "nbconvert_exporter": "python",
   "pygments_lexer": "ipython3",
   "version": "3.8.5"
  }
 },
 "nbformat": 4,
 "nbformat_minor": 4
}
